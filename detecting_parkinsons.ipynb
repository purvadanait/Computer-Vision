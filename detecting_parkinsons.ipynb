{
 "cells": [
  {
   "cell_type": "code",
   "execution_count": 6,
   "id": "6881930a-b621-4976-b1f1-00054b8a230a",
   "metadata": {},
   "outputs": [],
   "source": [
    "import numpy as np\n",
    "import cv2\n",
    "import argparse       #parse command line arguments\n",
    "import os           #to accommodate both windows and unix file paths\n",
    "from sklearn.ensemble import RandomForestClassifier   #classifier\n",
    "from sklearn.preprocessing import LabelEncoder       #to encode labels as integers\n",
    "from sklearn.metrics import confusion_matrix\n",
    "from skimage import feature          #Histogram of Oriented Gradients(HOG)\n",
    "from imutils import build_montages    #for visualization\n",
    "from imutils import paths       #extract file paths from each image of dataset"
   ]
  },
  {
   "cell_type": "code",
   "execution_count": 8,
   "id": "01cd4b59-c62a-4142-af54-aff2ad7a316c",
   "metadata": {},
   "outputs": [],
   "source": [
    "def quantify_image(image):\n",
    "    # compute the histogram of oriented gradients feature vector for\n",
    "    # the input image\n",
    "    features = feature.hog(image, orientations=9,\n",
    "    pixels_per_cell=(10, 10), cells_per_block=(2, 2),\n",
    "    transform_sqrt=True, block_norm=\"L1\")\n",
    "    # return the feature vector\n",
    "    return features"
   ]
  },
  {
   "cell_type": "code",
   "execution_count": 10,
   "id": "19878c35-a073-40c8-9eb0-148752982251",
   "metadata": {},
   "outputs": [],
   "source": [
    "def load_split(path):\n",
    "    # grab the list of images in the input directory, then initialize\n",
    "    # the list of data (i.e., images) and class labels\n",
    "    imagePaths = list(paths.list_images(path))\n",
    "    data = []\n",
    "    labels = []\n",
    "    # loop over the image paths\n",
    "    for imagePath in imagePaths:\n",
    "        # extract the class label from the filename\n",
    "        label = imagePath.split(os.path.sep)[-2]\n",
    "        # load the input image, convert it to grayscale, and resize\n",
    "        # it to 200x200 pixels, ignoring aspect ratio\n",
    "        image = cv2.imread(imagePath)\n",
    "        image = cv2.cvtColor(image, cv2.COLOR_BGR2GRAY)\n",
    "        image = cv2.resize(image, (200, 200))\n",
    "        # threshold the image such that the drawing appears as white\n",
    "        # on a black background\n",
    "        image = cv2.threshold(image, 0, 255,\n",
    "            cv2.THRESH_BINARY_INV | cv2.THRESH_OTSU)[1]\n",
    "        # quantify the image\n",
    "        features = quantify_image(image)\n",
    "        # update the data and labels lists, respectively\n",
    "        data.append(features)\n",
    "        labels.append(label)\n",
    "    # return the data and labels\n",
    "    return (np.array(data), np.array(labels))"
   ]
  },
  {
   "cell_type": "code",
   "execution_count": 11,
   "id": "123cd823-38d5-47e8-b80b-1a97e5c27cf9",
   "metadata": {},
   "outputs": [
    {
     "name": "stderr",
     "output_type": "stream",
     "text": [
      "usage: ipykernel_launcher.py [-h] -d DATASET [-t TRIALS]\n",
      "ipykernel_launcher.py: error: the following arguments are required: -d/--dataset\n"
     ]
    },
    {
     "ename": "SystemExit",
     "evalue": "2",
     "output_type": "error",
     "traceback": [
      "An exception has occurred, use %tb to see the full traceback.\n",
      "\u001b[1;31mSystemExit\u001b[0m\u001b[1;31m:\u001b[0m 2\n"
     ]
    },
    {
     "name": "stderr",
     "output_type": "stream",
     "text": [
      "C:\\Users\\Lenovo\\AppData\\Local\\Programs\\Python\\Python310\\lib\\site-packages\\IPython\\core\\interactiveshell.py:3465: UserWarning: To exit: use 'exit', 'quit', or Ctrl-D.\n",
      "  warn(\"To exit: use 'exit', 'quit', or Ctrl-D.\", stacklevel=1)\n"
     ]
    }
   ],
   "source": [
    "# construct the argument parser and parse the arguments\n",
    "ap = argparse.ArgumentParser()\n",
    "ap.add_argument(\"-d\", \"--dataset\", required=True,\n",
    "\thelp=\"path to input dataset\")\n",
    "ap.add_argument(\"-t\", \"--trials\", type=int, default=5,\n",
    "\thelp=\"# of trials to run\")\n",
    "args = vars(ap.parse_args())"
   ]
  },
  {
   "cell_type": "code",
   "execution_count": null,
   "id": "d41f284f-f7b2-4e73-b449-3b0c9e8121f7",
   "metadata": {},
   "outputs": [],
   "source": [
    "\n",
    "\n",
    "\n",
    "\n"
   ]
  }
 ],
 "metadata": {
  "kernelspec": {
   "display_name": "Python 3 (ipykernel)",
   "language": "python",
   "name": "python3"
  },
  "language_info": {
   "codemirror_mode": {
    "name": "ipython",
    "version": 3
   },
   "file_extension": ".py",
   "mimetype": "text/x-python",
   "name": "python",
   "nbconvert_exporter": "python",
   "pygments_lexer": "ipython3",
   "version": "3.10.4"
  }
 },
 "nbformat": 4,
 "nbformat_minor": 5
}
