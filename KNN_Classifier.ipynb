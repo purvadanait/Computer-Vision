{
 "cells": [
  {
   "cell_type": "code",
   "execution_count": 33,
   "id": "90b3f546-5659-4a60-8fa0-9f8a1dc62879",
   "metadata": {},
   "outputs": [],
   "source": [
    "import pandas as pd\n",
    "import numpy as np\n",
    "import seaborn as sns\n",
    "import matplotlib.pyplot as plt\n",
    "from sklearn.neighbors import KNeighborsClassifier\n",
    "from sklearn.preprocessing import LabelEncoder\n",
    "from sklearn.model_selection import  train_test_split\n",
    "from sklearn.metrics import classification_report\n",
    "import os\n",
    "import cv2"
   ]
  },
  {
   "cell_type": "code",
   "execution_count": 34,
   "id": "6d4eba4e-d8b5-4b61-b6ca-3416acba826a",
   "metadata": {},
   "outputs": [],
   "source": [
    "#folder = r\"C:\\Users\\Lenovo\\Downloads\\forest-fire-detection.v6i.yolov4pytorch\\train\"\n",
    "#def load_images_from_folder(folder):\n",
    " #   images = []\n",
    "  #  for filename in os.listdir(folder):\n",
    "   #     img = cv2.imread(os.path.join(folder,filename))\n",
    "    #    if img is not None:\n",
    "     #       images.append(img)\n",
    "    #return images\n",
    "\n",
    "train_path= r\"C:\\Users\\Lenovo\\Downloads\\forest-fire-detection.v6i.yolov4pytorch\\train\"\n",
    "val_path= r\"C:\\Users\\Lenovo\\Downloads\\forest-fire-detection.v6i.yolov4pytorch\\valid\"\n",
    "test_path= r\"C:\\Users\\Lenovo\\Downloads\\forest-fire-detection.v6i.yolov4pytorch\\test\"\n",
    "\n",
    "\n",
    "def load_images_from_folder(train_path):\n",
    "    images1 = []\n",
    "    for filename1 in os.listdir(train_path):\n",
    "        img1 = cv2.imread(os.path.join(train_path,filename1))\n",
    "        if img1 is not None:\n",
    "            images1.append(img1)\n",
    "    return images1\n",
    "\n",
    "def load_images_from_folder(val_path):\n",
    "    images2 = []\n",
    "    for filename2 in os.listdir(val_path):\n",
    "        img2 = cv2.imread(os.path.join(val_path,filename2))\n",
    "        if img2 is not None:\n",
    "            images2.append(img2)\n",
    "    return images2\n",
    "\n",
    "def load_images_from_folder(test_path):\n",
    "    images3 = []\n",
    "    for filename3 in os.listdir(test_path):\n",
    "        img3 = cv2.imread(os.path.join(test_path,filename3))\n",
    "        if img3 is not None:\n",
    "            images3.append(img3)\n",
    "    return images3"
   ]
  },
  {
   "cell_type": "code",
   "execution_count": null,
   "id": "fa41d6f8-0ce8-4ff2-a101-89059142d969",
   "metadata": {},
   "outputs": [],
   "source": []
  }
 ],
 "metadata": {
  "kernelspec": {
   "display_name": "Python 3 (ipykernel)",
   "language": "python",
   "name": "python3"
  },
  "language_info": {
   "codemirror_mode": {
    "name": "ipython",
    "version": 3
   },
   "file_extension": ".py",
   "mimetype": "text/x-python",
   "name": "python",
   "nbconvert_exporter": "python",
   "pygments_lexer": "ipython3",
   "version": "3.10.4"
  }
 },
 "nbformat": 4,
 "nbformat_minor": 5
}
